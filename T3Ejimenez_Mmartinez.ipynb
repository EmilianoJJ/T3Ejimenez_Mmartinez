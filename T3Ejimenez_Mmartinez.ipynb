{
 "cells": [
  {
   "cell_type": "markdown",
   "id": "506510a7",
   "metadata": {},
   "source": [
    "<img style=\"float: left; margin: 30px 15px 15px 15px;\" src=\"https://encrypted-tbn0.gstatic.com/images?q=tbn:ANd9GcTFzQj91sOlkeDFkg5HDbjtR4QJYmLXkfMNig&usqp=CAU\" width=\"400\" height=\"500\" /> \n",
    "    \n",
    "    \n",
    "### <font color='navy'> Simulación matemática. \n",
    "\n",
    "**Nombres:**\n",
    "    María del Carmen Martínez Hernández,\n",
    "    Emiliano Jiménez Villaseñor\n",
    "         \n",
    "**Fecha:** 14 de septiembre de 2022.\n",
    "\n",
    "**Expediente** : NT729340, IC740551\n",
    "    \n",
    "**Profesor:** Oscar David Jaramillo Zuluaga.\n",
    "    \n",
    "**Link Github**:  https://github.com/EmilianoJJ/T3Ejimenez_Mmartinez\n",
    "\n",
    "# Tarea 3: Clase 5"
   ]
  },
  {
   "cell_type": "markdown",
   "id": "1c351c5c",
   "metadata": {},
   "source": [
    "## 8. Tarea "
   ]
  },
  {
   "cell_type": "markdown",
   "id": "a0cd50ac",
   "metadata": {},
   "source": [
    "### 8.1. Otro problema de transporte\n",
    "\n",
    "La empresa Carbones de oriente debe ingresar a la empresa un requerimiento mínimo diario de carbón de $5000$ kg de carbón de alto volátil, $4000$ kg de medio volátil y $3000$ kg de bajo volátil para su debido proceso y trasformación. \n",
    "\n",
    "La entrada de estos se da en la siguiente tabla (los valores corresponden a un viaje en kg): \n",
    "\n",
    "-|Alto volátil|Medio volátil|Bajo volátil\n",
    ":----|----|----|----\n",
    "Mina sur|80|70|65\n",
    "Mina norte|60|50|40\n",
    "Mina central|40|30|20\n",
    "\n",
    "El costo del trasporte de un viaje de cada mina es de 2500 dólares, 1500 dólares y 900 dólares, respectivamente. ¿Cuántos viajes de cada mina se deben recibir a diario para suplir los requerimientos mínimos y generar el menor costo de transporte? \n",
    "\n",
    "Para simplificar la notación use las siguientes variables: \n",
    "\n",
    "+ $x_1:$ Cantidad de viajes de la mina sur  \n",
    "+ $x_2:$ Cantidad de viajes de la mina norte  \n",
    "+ $x_3:$ Cantidad de viajes de la mina central  \n",
    "\n",
    "\n",
    "El objetivo consiste consiste en plantear el problema de programación lineal que permita satisfacer los requerimientos de la empresa Carbones de oriente y resolverlo con `linprog`."
   ]
  },
  {
   "cell_type": "markdown",
   "id": "e9f132c0",
   "metadata": {},
   "source": [
    "#### <font color = blue> Código de solución estudiante 1"
   ]
  },
  {
   "cell_type": "markdown",
   "id": "d1463f1a",
   "metadata": {},
   "source": [
    "+ $x_1:$ Cantidad de viajes de la mina sur  \n",
    "+ $x_2:$ Cantidad de viajes de la mina norte  \n",
    "+ $x_3:$ Cantidad de viajes de la mina central  "
   ]
  },
  {
   "cell_type": "markdown",
   "id": "b26fe8ae",
   "metadata": {},
   "source": [
    "Minimizar coste de transporte:\n",
    "$$2500 + 1500 + 900$$"
   ]
  },
  {
   "cell_type": "markdown",
   "id": "5e16c265",
   "metadata": {},
   "source": [
    "$$X_1 + X_2 + X_3$$"
   ]
  },
  {
   "cell_type": "markdown",
   "id": "b3d1b021",
   "metadata": {},
   "source": [
    "Restricciones de consumo:\n",
    "1) $80X_1 + 60X_2 + 40X_3 \\geq 5000$              \n",
    "2) $70X_1 + 50X_2 + 30X_3 \\geq 4000$         \n",
    "3) $65X_1 + 40X_2 + 20X_3 \\geq 3000$"
   ]
  },
  {
   "cell_type": "markdown",
   "id": "2c636544",
   "metadata": {},
   "source": [
    "$min x_1 x_2 x_3$"
   ]
  },
  {
   "cell_type": "code",
   "execution_count": 1,
   "id": "68c967df",
   "metadata": {},
   "outputs": [],
   "source": [
    "import scipy.optimize as opt"
   ]
  },
  {
   "cell_type": "code",
   "execution_count": 2,
   "id": "33a6259d",
   "metadata": {},
   "outputs": [],
   "source": [
    "import numpy as np"
   ]
  },
  {
   "cell_type": "code",
   "execution_count": 3,
   "id": "fe46aa12",
   "metadata": {},
   "outputs": [],
   "source": [
    "c = np.array([2500,1500,900])\n",
    "b_ub = np.array([-5000,-4000,-3000])\n",
    "a_ub = np.array([-80,-60,-40]),([-70,-50,-30]),([-65,-40,-20])"
   ]
  },
  {
   "cell_type": "code",
   "execution_count": 4,
   "id": "3b74f9ba",
   "metadata": {},
   "outputs": [
    {
     "data": {
      "text/plain": [
       "(array([2500, 1500,  900]),\n",
       " array([-5000, -4000, -3000]),\n",
       " (array([-80, -60, -40]), [-70, -50, -30], [-65, -40, -20]))"
      ]
     },
     "execution_count": 4,
     "metadata": {},
     "output_type": "execute_result"
    }
   ],
   "source": [
    "c,b_ub,a_ub"
   ]
  },
  {
   "cell_type": "code",
   "execution_count": 5,
   "id": "737ce714",
   "metadata": {},
   "outputs": [],
   "source": [
    "sol_farma = opt.linprog(c,a_ub,b_ub)"
   ]
  },
  {
   "cell_type": "code",
   "execution_count": 6,
   "id": "32292e9f",
   "metadata": {},
   "outputs": [
    {
     "data": {
      "text/plain": [
       "     con: array([], dtype=float64)\n",
       "     fun: 119999.99941417099\n",
       " message: 'Optimization terminated successfully.'\n",
       "     nit: 5\n",
       "   slack: array([-2.45053552e-05, -1.95627858e-05, -1.46070347e-05])\n",
       "  status: 0\n",
       " success: True\n",
       "       x: array([2.63641703e-09, 4.99999998e+01, 4.99999997e+01])"
      ]
     },
     "execution_count": 6,
     "metadata": {},
     "output_type": "execute_result"
    }
   ],
   "source": [
    "sol_farma"
   ]
  },
  {
   "cell_type": "markdown",
   "id": "0d125c8e",
   "metadata": {},
   "source": [
    "En conclusión pude dar con el resultado que es ningun viaje de sur, 50 viajes de norte y 50 de central. Se pudo llegar al resultado pero de por medio tuve muchos error pero se pudieron solucionar."
   ]
  },
  {
   "cell_type": "markdown",
   "id": "4faa7d3a",
   "metadata": {},
   "source": [
    "#### <font color = blue> Código de solución estudiante 2"
   ]
  },
  {
   "cell_type": "markdown",
   "id": "39082028",
   "metadata": {},
   "source": [
    "Coste a minimizar\n",
    "\n",
    "$$2500x_1 + 1500x_2 + 900x_3$$ "
   ]
  },
  {
   "cell_type": "markdown",
   "id": "d5712d78",
   "metadata": {},
   "source": [
    "Restricciones\n",
    "\n",
    "1. La empresa debe ingresar **al menos** 5000kg diarios de <font color = blue> **carbón de alto volátil** : <font color = black> $ 80x_1 + 60x_2 + 40x_3 \\geq $ <font color = blue> $ 5000 $\n",
    "\n",
    "2. La empresa debe ingresar **al menos** 4000kg diarios de <font color = green> **carbón de medio volátil** : <font color = black> $ 70x_1 + 50x_2 + 30x_3 \\geq $ <font color = green> $ 4000 $\n",
    "\n",
    "3. La empresa debe ingresar **al menos** 3000kg diarios de <font color = orange> **carbón de medio volátil** : <font color = black> $ 65x_1 + 40x_2 + 20x_3 \\geq $ <font color = orange> $ 3000 $    "
   ]
  },
  {
   "cell_type": "markdown",
   "id": "f0005a6d",
   "metadata": {},
   "source": [
    "El problema puede ser expresado como:\n",
    "    \n",
    "\\begin{equation}\n",
    "\\begin{array}{ll}\n",
    "\\min_{x_1,x_2,x_3} & 2500x_1 + 1500x_2 + 900x_3 \\\\\n",
    "\\text{s. a. }      & -80x_1 - 60x_2 - 40x_3 \\leq -5000  \\\\\n",
    "                   & -70x_1 - 50x_2 - 30x_3 \\leq -4000 \\\\\n",
    "                   & -65x_1 - 40x_2 - 20x_3 \\leq -3000 ,\n",
    "\\end{array}\n",
    "\\end{equation}\n",
    "\n",
    "tomando en cuenta que \n",
    "\n",
    "\\begin{equation}\n",
    "\\begin{array}{ll}\n",
    "\\min_{\\boldsymbol{x}} & \\boldsymbol{c}^\\top\\boldsymbol{x} \\\\\n",
    "\\text{s. a. }        \n",
    "                     & \\boldsymbol{A}\\boldsymbol{x}\\leq\\boldsymbol{b},\n",
    "\\end{array}\n",
    "\\end{equation}"
   ]
  },
  {
   "cell_type": "code",
   "execution_count": 1,
   "id": "41035c64",
   "metadata": {},
   "outputs": [],
   "source": [
    "# Importar el módulo optimize de la librería scipy\n",
    "import scipy.optimize as opt"
   ]
  },
  {
   "cell_type": "code",
   "execution_count": 2,
   "id": "6ca43426",
   "metadata": {},
   "outputs": [],
   "source": [
    "# Importar numpy para crear las matrices\n",
    "import numpy as np"
   ]
  },
  {
   "cell_type": "code",
   "execution_count": 3,
   "id": "398b69d1",
   "metadata": {},
   "outputs": [],
   "source": [
    "# Crear las matrices para resolver el problema\n",
    "c = np.array([2500, 1500, 900])\n",
    "b_ub = np.array([-5000, -4000, -3000])\n",
    "A_ub = np.array([[-80, -60, -40],\n",
    "             [-70, -50, -30],\n",
    "             [-65, -40, -20]])"
   ]
  },
  {
   "cell_type": "code",
   "execution_count": 4,
   "id": "d3395409",
   "metadata": {},
   "outputs": [
    {
     "data": {
      "text/plain": [
       "(array([2500, 1500,  900]),\n",
       " array([-5000, -4000, -3000]),\n",
       " array([[-80, -60, -40],\n",
       "        [-70, -50, -30],\n",
       "        [-65, -40, -20]]))"
      ]
     },
     "execution_count": 4,
     "metadata": {},
     "output_type": "execute_result"
    }
   ],
   "source": [
    "c, b_ub, A_ub"
   ]
  },
  {
   "cell_type": "code",
   "execution_count": 5,
   "id": "a87ebf09",
   "metadata": {},
   "outputs": [],
   "source": [
    "# Resolver utilizando linprog\n",
    "sol_farma = opt.linprog(c, A_ub, b_ub)"
   ]
  },
  {
   "cell_type": "code",
   "execution_count": 6,
   "id": "d194dfda",
   "metadata": {},
   "outputs": [
    {
     "data": {
      "text/plain": [
       "     con: array([], dtype=float64)\n",
       "     fun: 119999.99941417099\n",
       " message: 'Optimization terminated successfully.'\n",
       "     nit: 5\n",
       "   slack: array([-2.45053552e-05, -1.95627858e-05, -1.46070347e-05])\n",
       "  status: 0\n",
       " success: True\n",
       "       x: array([2.63641703e-09, 4.99999998e+01, 4.99999997e+01])"
      ]
     },
     "execution_count": 6,
     "metadata": {},
     "output_type": "execute_result"
    }
   ],
   "source": [
    "# Mostrar el resultado\n",
    "sol_farma"
   ]
  },
  {
   "cell_type": "code",
   "execution_count": 7,
   "id": "fac2344f",
   "metadata": {},
   "outputs": [
    {
     "data": {
      "text/plain": [
       "array([2.63641703e-09, 4.99999998e+01, 4.99999997e+01])"
      ]
     },
     "execution_count": 7,
     "metadata": {},
     "output_type": "execute_result"
    }
   ],
   "source": [
    "# Extraer el vector solución\n",
    "x = sol_farma.x\n",
    "x"
   ]
  },
  {
   "cell_type": "markdown",
   "id": "218ea7ac",
   "metadata": {},
   "source": [
    "**Conclusión**\n",
    "\n",
    "Se requieren de 0 viajes de la mina sur, 50 viajes de la mina norte y 50 viajes de la mina central para cumplir con los requerimientos mínimos de carbon solicitados diariamente y a su vez generar el menor costo posible, que es de 120000 dólares."
   ]
  },
  {
   "cell_type": "markdown",
   "id": "d9e9e917",
   "metadata": {},
   "source": [
    "### 8.2. \n",
    "Una empresa de muebles rústicos fabrica entre muchos otros productos cinco tipos de sillas A, B, C, D Y E, las cuales se venden a precio de $1100$, $1300$, $1200$, $980$ y $1010$ pesos cada una y respectivamente. \n",
    "\n",
    "Las sillas pasan por cinco procesos: corte, ensamblado, lijado, pintado y sellado, para lo cual se dispone máximo de $17$, $11$, $15$, $12$ y $14$ horas respectivamente a la semana para dedicar a estas operaciones a estos productos.\n",
    "\n",
    "Los requerimientos, en horas, para cada una de las sillas está dado en la siguiente tabla:\n",
    "\n",
    "-|Corte|Ensamblado|Lijado|Pintado|Sellado\n",
    ":----|----|----|----|----|----\n",
    "Silla A|3|1|3|1|1\n",
    "Silla B|2|3|2|2|3\n",
    "Silla C|5|2|2|3|1\n",
    "Silla D|2|4|1|1|2\n",
    "Silla E|1|0|2|2|3\n",
    "\n",
    "¿Cuántas sillas de cada tipo se deben fabricar para suplir los requerimientos de disponibiladas semanal y generar la mayor utilidad en ventas? \n",
    "\n",
    "Para simplificar la notación use las siguientes variables: \n",
    "\n",
    "+ $x_A:$ Cantidad de sillas tipo A \n",
    "+ $x_B:$ Cantidad de sillas tipo B \n",
    "+ $x_C:$ Cantidad de sillas tipo C \n",
    "+ $x_D:$ Cantidad de sillas tipo D  \n",
    "+ $x_E:$ Cantidad de sillas tipo E\n",
    "\n",
    "\n",
    "El objetivo consiste consiste en plantear el problema de programación lineal que permita satisfacer los requerimientos de la empresa empresa de muebles y resolverlo con `linprog`."
   ]
  },
  {
   "cell_type": "markdown",
   "id": "fc2a32dc",
   "metadata": {},
   "source": [
    "#### <font color = blue> Código de solución estudiante 1"
   ]
  },
  {
   "cell_type": "markdown",
   "id": "83991b8c",
   "metadata": {},
   "source": [
    "+ $x_A:$ Cantidad de sillas tipo A \n",
    "+ $x_B:$ Cantidad de sillas tipo B \n",
    "+ $x_C:$ Cantidad de sillas tipo C \n",
    "+ $x_D:$ Cantidad de sillas tipo D  \n",
    "+ $x_E:$ Cantidad de sillas tipo E"
   ]
  },
  {
   "cell_type": "markdown",
   "id": "7d3f3a8e",
   "metadata": {},
   "source": [
    "Maximizar:\n",
    "$$1100 + 1300 + 1200 + 980 + 1010$$\n",
    "$$ X_a + X_b  +  X_c + X_d + X_e$$"
   ]
  },
  {
   "cell_type": "markdown",
   "id": "ea4d9c84",
   "metadata": {},
   "source": [
    "Restricciones\n",
    "1) $3X_a + 2X_b + 5X_c + 2X_d + X_e \\leq 17$\n",
    "\n",
    "2) $X_a + 3X_b + 2X_c + 4X_d \\leq 11$\n",
    "\n",
    "3) $3X_a + 2X_b + 2X_c + X_d + 2X_e \\leq 15$\n",
    "\n",
    "4) $X_a + 2X_b + 3X_c + X_d + 2_Xe \\leq 12$\n",
    "\n",
    "5) $X_a + 3X_b + X_c + 2X_d + 3X_e \\leq 14$"
   ]
  },
  {
   "cell_type": "markdown",
   "id": "e02049d5",
   "metadata": {},
   "source": [
    "$max X_a X_b X_c X_d X_e$"
   ]
  },
  {
   "cell_type": "code",
   "execution_count": 7,
   "id": "2dccb946",
   "metadata": {},
   "outputs": [],
   "source": [
    "c = np.array([-1100,-1300,-1200,-980,-1010])\n",
    "b_ub = np.array([17,11,15,12,14])\n",
    "a_ub = np.array([3,2,5,2,1]),([1,3,2,4,0]),([3,2,2,1,2]),([1,2,3,1,2]),([1,3,1,2,3])"
   ]
  },
  {
   "cell_type": "code",
   "execution_count": 8,
   "id": "2a3e33a1",
   "metadata": {},
   "outputs": [
    {
     "data": {
      "text/plain": [
       "(array([-1100, -1300, -1200,  -980, -1010]),\n",
       " array([17, 11, 15, 12, 14]),\n",
       " (array([3, 2, 5, 2, 1]),\n",
       "  [1, 3, 2, 4, 0],\n",
       "  [3, 2, 2, 1, 2],\n",
       "  [1, 2, 3, 1, 2],\n",
       "  [1, 3, 1, 2, 3]))"
      ]
     },
     "execution_count": 8,
     "metadata": {},
     "output_type": "execute_result"
    }
   ],
   "source": [
    "c,b_ub,a_ub"
   ]
  },
  {
   "cell_type": "code",
   "execution_count": 9,
   "id": "b9b83372",
   "metadata": {},
   "outputs": [],
   "source": [
    "sol_farma = opt.linprog(c,a_ub,b_ub)"
   ]
  },
  {
   "cell_type": "code",
   "execution_count": 10,
   "id": "f9eb372c",
   "metadata": {},
   "outputs": [
    {
     "data": {
      "text/plain": [
       "     con: array([], dtype=float64)\n",
       "     fun: -7699.999999956917\n",
       " message: 'Optimization terminated successfully.'\n",
       "     nit: 6\n",
       "   slack: array([7.55839835e-11, 4.15312229e-12, 9.37241396e-11, 1.69810832e-10,\n",
       "       7.65005836e-11])\n",
       "  status: 0\n",
       " success: True\n",
       "       x: array([2., 1., 1., 1., 2.])"
      ]
     },
     "execution_count": 10,
     "metadata": {},
     "output_type": "execute_result"
    }
   ],
   "source": [
    "sol_farma"
   ]
  },
  {
   "cell_type": "markdown",
   "id": "1b8a7fc4",
   "metadata": {},
   "source": [
    "En conclusión se ocupan hacer: 2 sillas A, 1 silla B, 1 silla C, 1 silla D y 2 sillas E."
   ]
  },
  {
   "cell_type": "markdown",
   "id": "725bee80",
   "metadata": {},
   "source": [
    "#### <font color = blue> Código de solución estudiante 2"
   ]
  },
  {
   "cell_type": "markdown",
   "id": "e40b1156",
   "metadata": {},
   "source": [
    "Coste a maximizar\n",
    "\n",
    "$$1100x_A + 1300x_B + 1200x_C + 980x_D + 1010x_E$$ "
   ]
  },
  {
   "cell_type": "markdown",
   "id": "a75d7664",
   "metadata": {},
   "source": [
    "Restricciones\n",
    "\n",
    "$ 3x_A + 2x_B + 5x_C + 2x_D + x_E \\leq 17 $\n",
    "\n",
    "$ x_A + 3x_B + 2x_C + 4x_D \\leq 11 $\n",
    "\n",
    "$ 3x_A + 2x_B + 2x_C + x_D + 2x_E \\leq 15 $\n",
    "\n",
    "$ x_A + 2x_B + 3x_C + x_D + 2x_E \\leq 12 $\n",
    "\n",
    "$ x_A + 3x_B + x_C + 2x_D + 3x_E \\leq 14 $"
   ]
  },
  {
   "cell_type": "markdown",
   "id": "c93d763c",
   "metadata": {},
   "source": [
    "El problema puede ser expresado como:\n",
    "    \n",
    "\\begin{equation}\n",
    "\\begin{array}{ll}\n",
    "\\min_{x_A,x_B...} & -1100x_A - 1300x_B - 1200x_C - 980x_D - 1010x_E \\\\\n",
    "\\text{s. a. }  & 3x_A + 2x_B + 5x_C + 2x_D + x_E \\leq 17 \\\\\n",
    "               & x_A + 3x_B + 2x_C + 4x_D \\leq 11 \\\\\n",
    "               & 3x_A + 2x_B + 2x_C + x_D + 2x_E \\leq 15 \\\\\n",
    "               & x_A + 2x_B + 3x_C + x_D + 2x_E \\leq 12 \\\\\n",
    "               & x_A + 3x_B + x_C + 2x_D + 3x_E \\leq 14 ,\n",
    "\\end{array}\n",
    "\\end{equation}\n",
    "\n",
    "tomando en cuenta que\n",
    "\n",
    "\\begin{equation}\n",
    "\\begin{array}{ll}\n",
    "\\min_{\\boldsymbol{x}} & \\boldsymbol{c}^\\top\\boldsymbol{x} \\\\\n",
    "\\text{s. a. }        \n",
    "                     & \\boldsymbol{A}\\boldsymbol{x}\\leq\\boldsymbol{b},\n",
    "\\end{array}\n",
    "\\end{equation}"
   ]
  },
  {
   "cell_type": "code",
   "execution_count": 8,
   "id": "551d77f5",
   "metadata": {},
   "outputs": [],
   "source": [
    "# Importar el módulo optimize de la librería scipy\n",
    "import scipy.optimize as opt"
   ]
  },
  {
   "cell_type": "code",
   "execution_count": 9,
   "id": "d24b75d7",
   "metadata": {},
   "outputs": [],
   "source": [
    "# Importar numpy para crear las matrices\n",
    "import numpy as np"
   ]
  },
  {
   "cell_type": "code",
   "execution_count": 10,
   "id": "aff39d47",
   "metadata": {},
   "outputs": [],
   "source": [
    "# Crear las matrices para resolver el problema\n",
    "c = np.array([-1100, -1300, -1200, -980, -1010])\n",
    "b_ub = np.array([17, 11, 15, 12, 14])\n",
    "A_ub = np.array([[3,2,5, 2, 1],\n",
    "             [1, 3, 2, 4, 0],\n",
    "             [3, 2, 2, 1, 2],    \n",
    "             [1, 2, 3, 1, 2],\n",
    "             [1, 3, 1, 2, 3]])"
   ]
  },
  {
   "cell_type": "code",
   "execution_count": 11,
   "id": "355c72ca",
   "metadata": {},
   "outputs": [
    {
     "data": {
      "text/plain": [
       "(array([-1100, -1300, -1200,  -980, -1010]),\n",
       " array([17, 11, 15, 12, 14]),\n",
       " array([[3, 2, 5, 2, 1],\n",
       "        [1, 3, 2, 4, 0],\n",
       "        [3, 2, 2, 1, 2],\n",
       "        [1, 2, 3, 1, 2],\n",
       "        [1, 3, 1, 2, 3]]))"
      ]
     },
     "execution_count": 11,
     "metadata": {},
     "output_type": "execute_result"
    }
   ],
   "source": [
    "c, b_ub, A_ub"
   ]
  },
  {
   "cell_type": "code",
   "execution_count": 12,
   "id": "9de9762e",
   "metadata": {},
   "outputs": [],
   "source": [
    "# Resolver utilizando linprog\n",
    "sol_farma = opt.linprog(c, A_ub, b_ub)"
   ]
  },
  {
   "cell_type": "code",
   "execution_count": 13,
   "id": "11fd5580",
   "metadata": {},
   "outputs": [
    {
     "data": {
      "text/plain": [
       "     con: array([], dtype=float64)\n",
       "     fun: -7699.999999956917\n",
       " message: 'Optimization terminated successfully.'\n",
       "     nit: 6\n",
       "   slack: array([7.55839835e-11, 4.15312229e-12, 9.37241396e-11, 1.69810832e-10,\n",
       "       7.65005836e-11])\n",
       "  status: 0\n",
       " success: True\n",
       "       x: array([2., 1., 1., 1., 2.])"
      ]
     },
     "execution_count": 13,
     "metadata": {},
     "output_type": "execute_result"
    }
   ],
   "source": [
    "# Mostrar el resultado\n",
    "sol_farma"
   ]
  },
  {
   "cell_type": "code",
   "execution_count": 14,
   "id": "0b000cae",
   "metadata": {},
   "outputs": [
    {
     "data": {
      "text/plain": [
       "array([2., 1., 1., 1., 2.])"
      ]
     },
     "execution_count": 14,
     "metadata": {},
     "output_type": "execute_result"
    }
   ],
   "source": [
    "# Extraer el vector solución\n",
    "x = sol_farma.x\n",
    "x"
   ]
  },
  {
   "cell_type": "markdown",
   "id": "6894d883",
   "metadata": {},
   "source": [
    "**Conclusión** \n",
    "\n",
    "Se requiere fabricar:\n",
    "+ 2 sillas tipo A \n",
    "+ 1 silla tipo B \n",
    "+ 1 silla tipo C\n",
    "+ 1 silla tipo D\n",
    "+ 2 sillas tipo E,\n",
    "\n",
    "para suplir los requerimientos semanales y a su vez generar la mayor utilidad en ventas."
   ]
  }
 ],
 "metadata": {
  "kernelspec": {
   "display_name": "Python 3 (ipykernel)",
   "language": "python",
   "name": "python3"
  },
  "language_info": {
   "codemirror_mode": {
    "name": "ipython",
    "version": 3
   },
   "file_extension": ".py",
   "mimetype": "text/x-python",
   "name": "python",
   "nbconvert_exporter": "python",
   "pygments_lexer": "ipython3",
   "version": "3.9.12"
  }
 },
 "nbformat": 4,
 "nbformat_minor": 5
}
